{
 "cells": [
  {
   "cell_type": "markdown",
   "id": "a3f7b028",
   "metadata": {},
   "source": [
    "## Imports"
   ]
  },
  {
   "cell_type": "code",
   "execution_count": 43,
   "id": "932e8907",
   "metadata": {},
   "outputs": [],
   "source": [
    "import math\n",
    "import os\n",
    "import time\n",
    "import warnings\n",
    "\n",
    "warnings.filterwarnings('ignore')\n",
    "warnings.simplefilter(action='ignore', category=FutureWarning)\n",
    "\n",
    "# import matplotlib.pyplot as plt\n",
    "# %matplotlib inline\n",
    "\n",
    "from fredapi import Fred\n",
    "# import numpy as np\n",
    "import polars as pl\n",
    "# import seaborn as sns\n",
    "import yfinance as yf\n",
    "\n",
    "from dotenv import load_dotenv\n",
    "from pathlib import Path\n",
    "from typing import Iterable, List, Dict"
   ]
  },
  {
   "cell_type": "code",
   "execution_count": 37,
   "id": "0375f844",
   "metadata": {},
   "outputs": [
    {
     "data": {
      "text/plain": [
       "True"
      ]
     },
     "execution_count": 37,
     "metadata": {},
     "output_type": "execute_result"
    }
   ],
   "source": [
    "env_path = Path.cwd().parent / \".env\"\n",
    "load_dotenv(dotenv_path=env_path)"
   ]
  },
  {
   "cell_type": "markdown",
   "id": "a8a4c236",
   "metadata": {},
   "source": [
    "## Functions"
   ]
  },
  {
   "cell_type": "markdown",
   "id": "fb2d28c0",
   "metadata": {},
   "source": [
    "### Download Ticker Data"
   ]
  },
  {
   "cell_type": "code",
   "execution_count": 25,
   "id": "3ae3bfc9",
   "metadata": {},
   "outputs": [],
   "source": [
    "def download_ticker_data(tickers: Iterable[str], start: str, end: str, dest_dir: str = \"data\", retries: int = 3, pause: float = 1.0) -> List[str]:\n",
    "    \"\"\"\n",
    "    Downloads historical stock data for a list of tickers using yfinance and saves each to a CSV file.\n",
    "\n",
    "    Parameters\n",
    "    ----------\n",
    "    tickers : Iterable[str]\n",
    "        List or iterable of ticker symbols to download.\n",
    "    start : str\n",
    "        Start date for historical data in 'YYYY-MM-DD' format.\n",
    "    end : str\n",
    "        End date for historical data in 'YYYY-MM-DD' format.\n",
    "    dest_dir : str, optional\n",
    "        Directory to save CSV files (default is \"data\").\n",
    "    retries : int, optional\n",
    "        Number of retry attempts for each ticker if download fails (default is 3).\n",
    "    pause : float, optional\n",
    "        Seconds to wait between retries (default is 1.0).\n",
    "\n",
    "    Returns\n",
    "    -------\n",
    "    List[str]\n",
    "        List of file paths to the saved CSV files.\n",
    "    \"\"\"\n",
    "    cwd = Path.cwd()\n",
    "    dest_path = Path(dest_dir)\n",
    "    if dest_path.is_absolute():\n",
    "        dest = dest_path\n",
    "    else:\n",
    "        dest = cwd.parent / dest_path\n",
    "    dest.mkdir(parents=True, exist_ok=True)\n",
    "    saved_files: List[str] = []\n",
    "    for t in tickers:\n",
    "        t = str(t).upper().strip()\n",
    "        out_path = dest / f\"{t}.csv\"\n",
    "        attempt = 0\n",
    "        while attempt < retries:\n",
    "            try:\n",
    "                print(f\"Downloading data for {t} (attempt {attempt+1}/{retries}) from {start} to {end} ...\")\n",
    "                ticker = yf.Ticker(t)\n",
    "                historical_data = ticker.history(start=start, end=end)\n",
    "                if historical_data is None or historical_data.empty:\n",
    "                    raise ValueError(f\"No data returned for {t} (start={start}, end={end})\")\n",
    "                historical_data.to_csv(out_path)\n",
    "                print(f\"Data for {t} saved to {out_path}\")\n",
    "                saved_files.append(str(out_path))\n",
    "                break\n",
    "            except Exception as exc:\n",
    "                attempt += 1\n",
    "                print(f\"Failed to download {t}: {exc}\")\n",
    "                if attempt < retries:\n",
    "                    print(f\"Retrying after {pause} seconds...\")\n",
    "                    time.sleep(pause)\n",
    "                else:\n",
    "                    print(f\"Giving up on {t} after {retries} attempts.\")\n",
    "    return saved_files"
   ]
  },
  {
   "cell_type": "markdown",
   "id": "ffbf416e",
   "metadata": {},
   "source": [
    "## Data Ingestion"
   ]
  },
  {
   "cell_type": "markdown",
   "id": "2b42042d",
   "metadata": {},
   "source": [
    "### Yahoo Finance"
   ]
  },
  {
   "cell_type": "code",
   "execution_count": 26,
   "id": "657b67b3",
   "metadata": {},
   "outputs": [
    {
     "name": "stdout",
     "output_type": "stream",
     "text": [
      "Downloading data for PG (attempt 1/3) from 2010-01-01 to 2024-12-31 ...\n",
      "Data for PG saved to c:\\Users\\elibf\\Documents\\MSDS-451-Final\\MSDS-451-Final\\data\\PG.csv\n",
      "Downloading data for KO (attempt 1/3) from 2010-01-01 to 2024-12-31 ...\n",
      "Data for KO saved to c:\\Users\\elibf\\Documents\\MSDS-451-Final\\MSDS-451-Final\\data\\KO.csv\n",
      "Downloading data for PEP (attempt 1/3) from 2010-01-01 to 2024-12-31 ...\n",
      "Data for PEP saved to c:\\Users\\elibf\\Documents\\MSDS-451-Final\\MSDS-451-Final\\data\\PEP.csv\n",
      "Downloading data for COST (attempt 1/3) from 2010-01-01 to 2024-12-31 ...\n",
      "Data for COST saved to c:\\Users\\elibf\\Documents\\MSDS-451-Final\\MSDS-451-Final\\data\\COST.csv\n",
      "Downloading data for WMT (attempt 1/3) from 2010-01-01 to 2024-12-31 ...\n",
      "Data for WMT saved to c:\\Users\\elibf\\Documents\\MSDS-451-Final\\MSDS-451-Final\\data\\WMT.csv\n",
      "Downloading data for ^VIX (attempt 1/3) from 2010-01-01 to 2024-12-31 ...\n",
      "Data for ^VIX saved to c:\\Users\\elibf\\Documents\\MSDS-451-Final\\MSDS-451-Final\\data\\^VIX.csv\n",
      "['c:\\\\Users\\\\elibf\\\\Documents\\\\MSDS-451-Final\\\\MSDS-451-Final\\\\data\\\\PG.csv', 'c:\\\\Users\\\\elibf\\\\Documents\\\\MSDS-451-Final\\\\MSDS-451-Final\\\\data\\\\KO.csv', 'c:\\\\Users\\\\elibf\\\\Documents\\\\MSDS-451-Final\\\\MSDS-451-Final\\\\data\\\\PEP.csv', 'c:\\\\Users\\\\elibf\\\\Documents\\\\MSDS-451-Final\\\\MSDS-451-Final\\\\data\\\\COST.csv', 'c:\\\\Users\\\\elibf\\\\Documents\\\\MSDS-451-Final\\\\MSDS-451-Final\\\\data\\\\WMT.csv', 'c:\\\\Users\\\\elibf\\\\Documents\\\\MSDS-451-Final\\\\MSDS-451-Final\\\\data\\\\^VIX.csv']\n"
     ]
    }
   ],
   "source": [
    "tickers = [\"PG\", \"KO\", \"PEP\", \"COST\", \"WMT\", \"^VIX\"]\n",
    "start_date = \"2010-01-01\"\n",
    "end_date = \"2024-12-31\"\n",
    "\n",
    "saved = download_ticker_data(tickers, start_date, end_date)\n",
    "print(saved)"
   ]
  },
  {
   "cell_type": "code",
   "execution_count": 27,
   "id": "862678ae",
   "metadata": {},
   "outputs": [],
   "source": [
    "pg_data = pl.read_csv(saved[0])\n",
    "ko_data = pl.read_csv(saved[1])\n",
    "pep_data = pl.read_csv(saved[2])\n",
    "cost_data = pl.read_csv(saved[3])\n",
    "wmt_data = pl.read_csv(saved[4])\n",
    "vix_data = pl.read_csv(saved[5])"
   ]
  },
  {
   "cell_type": "markdown",
   "id": "2b6bd253",
   "metadata": {},
   "source": [
    "### Federal Reserve Economic Data"
   ]
  },
  {
   "cell_type": "code",
   "execution_count": 38,
   "id": "1403b06d",
   "metadata": {},
   "outputs": [],
   "source": [
    "fred = Fred(api_key=os.getenv(\"FRED_API_KEY\"))"
   ]
  },
  {
   "cell_type": "code",
   "execution_count": 39,
   "id": "3fb5da8d",
   "metadata": {},
   "outputs": [],
   "source": [
    "indicators = {\n",
    "    'GDP': 'A191RL1Q225SBEA', # Real Gross Domestic Product\n",
    "    'CPI': 'CPIAUCSL', # Consumer Price Index for All Urban Consumers: All Items\n",
    "    'UNRATE': 'UNRATE', # Unemployment Rate\n",
    "    'FEDFUNDS': 'FEDFUNDS', # Effective Federal Funds Rate\n",
    "    'VIX': 'VIXCLS', # CBOE Volatility Index\n",
    "    'T10Y3M': 'T10Y3M' # 10-Year Treasury Constant Maturity Minus 3-Month Treasury Constant Maturity\n",
    "}"
   ]
  },
  {
   "cell_type": "code",
   "execution_count": 45,
   "id": "393a9053",
   "metadata": {},
   "outputs": [],
   "source": [
    "fred_dfs: Dict[str, pl.DataFrame] = {}\n",
    "\n",
    "for name, code in indicators.items():\n",
    "    series = fred.get_series(code)\n",
    "    # handle empty or missing series\n",
    "    if series is None or len(series) == 0:\n",
    "        fred_dfs[name] = pl.DataFrame({})\n",
    "        continue\n",
    "\n",
    "    # If the series has an index, align values to index; otherwise treat as sequence\n",
    "    try:\n",
    "        idx = list(series.index)\n",
    "        dates = [d for d in idx]\n",
    "        values = []\n",
    "        for v in series.values:\n",
    "            if isinstance(v, float) and math.isnan(v):\n",
    "                values.append(None)\n",
    "            else:\n",
    "                values.append(v)\n",
    "    except Exception:\n",
    "        vals_list = list(series)\n",
    "        dates = list(range(len(vals_list)))\n",
    "        values = [None if (isinstance(v, float) and math.isnan(v)) else v for v in vals_list]\n",
    "\n",
    "    df = pl.DataFrame({\"DATE\": dates, name: values})\n",
    "    try:\n",
    "        df = df.with_column(pl.col(\"DATE\").str.strptime(pl.Date, \"%Y-%m-%d\").alias(\"DATE\"))\n",
    "    except Exception:\n",
    "        pass\n",
    "\n",
    "    fred_dfs[name] = df"
   ]
  },
  {
   "cell_type": "markdown",
   "id": "15f9df6c",
   "metadata": {},
   "source": [
    "## Exploratory Data Analysis"
   ]
  },
  {
   "cell_type": "markdown",
   "id": "404a398b",
   "metadata": {},
   "source": [
    "### Procter & Gamble ($PG)"
   ]
  },
  {
   "cell_type": "code",
   "execution_count": 28,
   "id": "8486d5db",
   "metadata": {},
   "outputs": [
    {
     "data": {
      "text/plain": [
       "Schema([('Date', String),\n",
       "        ('Open', Float64),\n",
       "        ('High', Float64),\n",
       "        ('Low', Float64),\n",
       "        ('Close', Float64),\n",
       "        ('Volume', Int64),\n",
       "        ('Dividends', Float64),\n",
       "        ('Stock Splits', Float64)])"
      ]
     },
     "execution_count": 28,
     "metadata": {},
     "output_type": "execute_result"
    }
   ],
   "source": [
    "pg_data.schema"
   ]
  },
  {
   "cell_type": "code",
   "execution_count": 29,
   "id": "4bd10c5e",
   "metadata": {},
   "outputs": [
    {
     "data": {
      "text/html": [
       "<div><style>\n",
       ".dataframe > thead > tr,\n",
       ".dataframe > tbody > tr {\n",
       "  text-align: right;\n",
       "  white-space: pre-wrap;\n",
       "}\n",
       "</style>\n",
       "<small>shape: (5, 8)</small><table border=\"1\" class=\"dataframe\"><thead><tr><th>Date</th><th>Open</th><th>High</th><th>Low</th><th>Close</th><th>Volume</th><th>Dividends</th><th>Stock Splits</th></tr><tr><td>str</td><td>f64</td><td>f64</td><td>f64</td><td>f64</td><td>i64</td><td>f64</td><td>f64</td></tr></thead><tbody><tr><td>&quot;2010-01-04 00:00:00-05:00&quot;</td><td>38.679348</td><td>38.805938</td><td>38.375534</td><td>38.685677</td><td>9190800</td><td>0.0</td><td>0.0</td></tr><tr><td>&quot;2010-01-05 00:00:00-05:00&quot;</td><td>38.692005</td><td>38.786946</td><td>38.356542</td><td>38.698334</td><td>8649400</td><td>0.0</td><td>0.0</td></tr><tr><td>&quot;2010-01-06 00:00:00-05:00&quot;</td><td>38.571743</td><td>38.584403</td><td>38.293248</td><td>38.514778</td><td>9908400</td><td>0.0</td><td>0.0</td></tr><tr><td>&quot;2010-01-07 00:00:00-05:00&quot;</td><td>38.343886</td><td>38.419839</td><td>38.128684</td><td>38.305908</td><td>8972800</td><td>0.0</td><td>0.0</td></tr><tr><td>&quot;2010-01-08 00:00:00-05:00&quot;</td><td>38.20463</td><td>38.31223</td><td>38.014746</td><td>38.255264</td><td>8464600</td><td>0.0</td><td>0.0</td></tr></tbody></table></div>"
      ],
      "text/plain": [
       "shape: (5, 8)\n",
       "┌────────────────┬───────────┬───────────┬───────────┬───────────┬─────────┬───────────┬────────┐\n",
       "│ Date           ┆ Open      ┆ High      ┆ Low       ┆ Close     ┆ Volume  ┆ Dividends ┆ Stock  │\n",
       "│ ---            ┆ ---       ┆ ---       ┆ ---       ┆ ---       ┆ ---     ┆ ---       ┆ Splits │\n",
       "│ str            ┆ f64       ┆ f64       ┆ f64       ┆ f64       ┆ i64     ┆ f64       ┆ ---    │\n",
       "│                ┆           ┆           ┆           ┆           ┆         ┆           ┆ f64    │\n",
       "╞════════════════╪═══════════╪═══════════╪═══════════╪═══════════╪═════════╪═══════════╪════════╡\n",
       "│ 2010-01-04     ┆ 38.679348 ┆ 38.805938 ┆ 38.375534 ┆ 38.685677 ┆ 9190800 ┆ 0.0       ┆ 0.0    │\n",
       "│ 00:00:00-05:00 ┆           ┆           ┆           ┆           ┆         ┆           ┆        │\n",
       "│ 2010-01-05     ┆ 38.692005 ┆ 38.786946 ┆ 38.356542 ┆ 38.698334 ┆ 8649400 ┆ 0.0       ┆ 0.0    │\n",
       "│ 00:00:00-05:00 ┆           ┆           ┆           ┆           ┆         ┆           ┆        │\n",
       "│ 2010-01-06     ┆ 38.571743 ┆ 38.584403 ┆ 38.293248 ┆ 38.514778 ┆ 9908400 ┆ 0.0       ┆ 0.0    │\n",
       "│ 00:00:00-05:00 ┆           ┆           ┆           ┆           ┆         ┆           ┆        │\n",
       "│ 2010-01-07     ┆ 38.343886 ┆ 38.419839 ┆ 38.128684 ┆ 38.305908 ┆ 8972800 ┆ 0.0       ┆ 0.0    │\n",
       "│ 00:00:00-05:00 ┆           ┆           ┆           ┆           ┆         ┆           ┆        │\n",
       "│ 2010-01-08     ┆ 38.20463  ┆ 38.31223  ┆ 38.014746 ┆ 38.255264 ┆ 8464600 ┆ 0.0       ┆ 0.0    │\n",
       "│ 00:00:00-05:00 ┆           ┆           ┆           ┆           ┆         ┆           ┆        │\n",
       "└────────────────┴───────────┴───────────┴───────────┴───────────┴─────────┴───────────┴────────┘"
      ]
     },
     "execution_count": 29,
     "metadata": {},
     "output_type": "execute_result"
    }
   ],
   "source": [
    "pg_data.head()"
   ]
  },
  {
   "cell_type": "code",
   "execution_count": 30,
   "id": "f3fd9b0e",
   "metadata": {},
   "outputs": [
    {
     "data": {
      "text/html": [
       "<div><style>\n",
       ".dataframe > thead > tr,\n",
       ".dataframe > tbody > tr {\n",
       "  text-align: right;\n",
       "  white-space: pre-wrap;\n",
       "}\n",
       "</style>\n",
       "<small>shape: (9, 9)</small><table border=\"1\" class=\"dataframe\"><thead><tr><th>statistic</th><th>Date</th><th>Open</th><th>High</th><th>Low</th><th>Close</th><th>Volume</th><th>Dividends</th><th>Stock Splits</th></tr><tr><td>str</td><td>str</td><td>f64</td><td>f64</td><td>f64</td><td>f64</td><td>f64</td><td>f64</td><td>f64</td></tr></thead><tbody><tr><td>&quot;count&quot;</td><td>&quot;3773&quot;</td><td>3773.0</td><td>3773.0</td><td>3773.0</td><td>3773.0</td><td>3773.0</td><td>3773.0</td><td>3773.0</td></tr><tr><td>&quot;null_count&quot;</td><td>&quot;0&quot;</td><td>0.0</td><td>0.0</td><td>0.0</td><td>0.0</td><td>0.0</td><td>0.0</td><td>0.0</td></tr><tr><td>&quot;mean&quot;</td><td>null</td><td>85.236579</td><td>85.848934</td><td>84.663057</td><td>85.275298</td><td>8.7572e6</td><td>0.011324</td><td>0.0</td></tr><tr><td>&quot;std&quot;</td><td>null</td><td>38.879625</td><td>39.202039</td><td>38.588737</td><td>38.900924</td><td>5.1942e6</td><td>0.091097</td><td>0.0</td></tr><tr><td>&quot;min&quot;</td><td>&quot;2010-01-04 00:00:00-05:00&quot;</td><td>38.027422</td><td>38.147681</td><td>25.291183</td><td>38.103374</td><td>2.0221e6</td><td>0.0</td><td>0.0</td></tr><tr><td>&quot;25%&quot;</td><td>null</td><td>56.137858</td><td>56.490187</td><td>55.769029</td><td>56.094166</td><td>6.1449e6</td><td>0.0</td><td>0.0</td></tr><tr><td>&quot;50%&quot;</td><td>null</td><td>68.792523</td><td>69.225196</td><td>68.486249</td><td>68.870911</td><td>7.6638e6</td><td>0.0</td><td>0.0</td></tr><tr><td>&quot;75%&quot;</td><td>null</td><td>122.254526</td><td>123.03277</td><td>121.253833</td><td>122.241798</td><td>9.819e6</td><td>0.0</td><td>0.0</td></tr><tr><td>&quot;max&quot;</td><td>&quot;2024-12-30 00:00:00-05:00&quot;</td><td>176.593111</td><td>177.014965</td><td>175.347145</td><td>176.298798</td><td>1.237357e8</td><td>1.007</td><td>0.0</td></tr></tbody></table></div>"
      ],
      "text/plain": [
       "shape: (9, 9)\n",
       "┌───────────┬───────────┬───────────┬───────────┬───┬───────────┬───────────┬───────────┬──────────┐\n",
       "│ statistic ┆ Date      ┆ Open      ┆ High      ┆ … ┆ Close     ┆ Volume    ┆ Dividends ┆ Stock    │\n",
       "│ ---       ┆ ---       ┆ ---       ┆ ---       ┆   ┆ ---       ┆ ---       ┆ ---       ┆ Splits   │\n",
       "│ str       ┆ str       ┆ f64       ┆ f64       ┆   ┆ f64       ┆ f64       ┆ f64       ┆ ---      │\n",
       "│           ┆           ┆           ┆           ┆   ┆           ┆           ┆           ┆ f64      │\n",
       "╞═══════════╪═══════════╪═══════════╪═══════════╪═══╪═══════════╪═══════════╪═══════════╪══════════╡\n",
       "│ count     ┆ 3773      ┆ 3773.0    ┆ 3773.0    ┆ … ┆ 3773.0    ┆ 3773.0    ┆ 3773.0    ┆ 3773.0   │\n",
       "│ null_coun ┆ 0         ┆ 0.0       ┆ 0.0       ┆ … ┆ 0.0       ┆ 0.0       ┆ 0.0       ┆ 0.0      │\n",
       "│ t         ┆           ┆           ┆           ┆   ┆           ┆           ┆           ┆          │\n",
       "│ mean      ┆ null      ┆ 85.236579 ┆ 85.848934 ┆ … ┆ 85.275298 ┆ 8.7572e6  ┆ 0.011324  ┆ 0.0      │\n",
       "│ std       ┆ null      ┆ 38.879625 ┆ 39.202039 ┆ … ┆ 38.900924 ┆ 5.1942e6  ┆ 0.091097  ┆ 0.0      │\n",
       "│ min       ┆ 2010-01-0 ┆ 38.027422 ┆ 38.147681 ┆ … ┆ 38.103374 ┆ 2.0221e6  ┆ 0.0       ┆ 0.0      │\n",
       "│           ┆ 4 00:00:0 ┆           ┆           ┆   ┆           ┆           ┆           ┆          │\n",
       "│           ┆ 0-05:00   ┆           ┆           ┆   ┆           ┆           ┆           ┆          │\n",
       "│ 25%       ┆ null      ┆ 56.137858 ┆ 56.490187 ┆ … ┆ 56.094166 ┆ 6.1449e6  ┆ 0.0       ┆ 0.0      │\n",
       "│ 50%       ┆ null      ┆ 68.792523 ┆ 69.225196 ┆ … ┆ 68.870911 ┆ 7.6638e6  ┆ 0.0       ┆ 0.0      │\n",
       "│ 75%       ┆ null      ┆ 122.25452 ┆ 123.03277 ┆ … ┆ 122.24179 ┆ 9.819e6   ┆ 0.0       ┆ 0.0      │\n",
       "│           ┆           ┆ 6         ┆           ┆   ┆ 8         ┆           ┆           ┆          │\n",
       "│ max       ┆ 2024-12-3 ┆ 176.59311 ┆ 177.01496 ┆ … ┆ 176.29879 ┆ 1.237357e ┆ 1.007     ┆ 0.0      │\n",
       "│           ┆ 0 00:00:0 ┆ 1         ┆ 5         ┆   ┆ 8         ┆ 8         ┆           ┆          │\n",
       "│           ┆ 0-05:00   ┆           ┆           ┆   ┆           ┆           ┆           ┆          │\n",
       "└───────────┴───────────┴───────────┴───────────┴───┴───────────┴───────────┴───────────┴──────────┘"
      ]
     },
     "execution_count": 30,
     "metadata": {},
     "output_type": "execute_result"
    }
   ],
   "source": [
    "pg_data.describe()"
   ]
  },
  {
   "cell_type": "markdown",
   "id": "21248fe9",
   "metadata": {},
   "source": [
    "### Coca-Cola ($KO)"
   ]
  },
  {
   "cell_type": "code",
   "execution_count": 31,
   "id": "3cd2434a",
   "metadata": {},
   "outputs": [
    {
     "data": {
      "text/html": [
       "<div><style>\n",
       ".dataframe > thead > tr,\n",
       ".dataframe > tbody > tr {\n",
       "  text-align: right;\n",
       "  white-space: pre-wrap;\n",
       "}\n",
       "</style>\n",
       "<small>shape: (5, 8)</small><table border=\"1\" class=\"dataframe\"><thead><tr><th>Date</th><th>Open</th><th>High</th><th>Low</th><th>Close</th><th>Volume</th><th>Dividends</th><th>Stock Splits</th></tr><tr><td>str</td><td>f64</td><td>f64</td><td>f64</td><td>f64</td><td>i64</td><td>f64</td><td>f64</td></tr></thead><tbody><tr><td>&quot;2010-01-04 00:00:00-05:00&quot;</td><td>17.594805</td><td>17.613274</td><td>17.514773</td><td>17.557867</td><td>13870400</td><td>0.0</td><td>0.0</td></tr><tr><td>&quot;2010-01-05 00:00:00-05:00&quot;</td><td>17.499377</td><td>17.542472</td><td>17.280827</td><td>17.345469</td><td>23172400</td><td>0.0</td><td>0.0</td></tr><tr><td>&quot;2010-01-06 00:00:00-05:00&quot;</td><td>17.345476</td><td>17.37318</td><td>17.231585</td><td>17.339321</td><td>19264600</td><td>0.0</td><td>0.0</td></tr><tr><td>&quot;2010-01-07 00:00:00-05:00&quot;</td><td>17.339316</td><td>17.351628</td><td>17.160782</td><td>17.296221</td><td>13234600</td><td>0.0</td><td>0.0</td></tr><tr><td>&quot;2010-01-08 00:00:00-05:00&quot;</td><td>17.071516</td><td>17.126923</td><td>16.852966</td><td>16.976093</td><td>28712400</td><td>0.0</td><td>0.0</td></tr></tbody></table></div>"
      ],
      "text/plain": [
       "shape: (5, 8)\n",
       "┌──────────────────┬───────────┬───────────┬───────────┬───────────┬──────────┬───────────┬────────┐\n",
       "│ Date             ┆ Open      ┆ High      ┆ Low       ┆ Close     ┆ Volume   ┆ Dividends ┆ Stock  │\n",
       "│ ---              ┆ ---       ┆ ---       ┆ ---       ┆ ---       ┆ ---      ┆ ---       ┆ Splits │\n",
       "│ str              ┆ f64       ┆ f64       ┆ f64       ┆ f64       ┆ i64      ┆ f64       ┆ ---    │\n",
       "│                  ┆           ┆           ┆           ┆           ┆          ┆           ┆ f64    │\n",
       "╞══════════════════╪═══════════╪═══════════╪═══════════╪═══════════╪══════════╪═══════════╪════════╡\n",
       "│ 2010-01-04       ┆ 17.594805 ┆ 17.613274 ┆ 17.514773 ┆ 17.557867 ┆ 13870400 ┆ 0.0       ┆ 0.0    │\n",
       "│ 00:00:00-05:00   ┆           ┆           ┆           ┆           ┆          ┆           ┆        │\n",
       "│ 2010-01-05       ┆ 17.499377 ┆ 17.542472 ┆ 17.280827 ┆ 17.345469 ┆ 23172400 ┆ 0.0       ┆ 0.0    │\n",
       "│ 00:00:00-05:00   ┆           ┆           ┆           ┆           ┆          ┆           ┆        │\n",
       "│ 2010-01-06       ┆ 17.345476 ┆ 17.37318  ┆ 17.231585 ┆ 17.339321 ┆ 19264600 ┆ 0.0       ┆ 0.0    │\n",
       "│ 00:00:00-05:00   ┆           ┆           ┆           ┆           ┆          ┆           ┆        │\n",
       "│ 2010-01-07       ┆ 17.339316 ┆ 17.351628 ┆ 17.160782 ┆ 17.296221 ┆ 13234600 ┆ 0.0       ┆ 0.0    │\n",
       "│ 00:00:00-05:00   ┆           ┆           ┆           ┆           ┆          ┆           ┆        │\n",
       "│ 2010-01-08       ┆ 17.071516 ┆ 17.126923 ┆ 16.852966 ┆ 16.976093 ┆ 28712400 ┆ 0.0       ┆ 0.0    │\n",
       "│ 00:00:00-05:00   ┆           ┆           ┆           ┆           ┆          ┆           ┆        │\n",
       "└──────────────────┴───────────┴───────────┴───────────┴───────────┴──────────┴───────────┴────────┘"
      ]
     },
     "execution_count": 31,
     "metadata": {},
     "output_type": "execute_result"
    }
   ],
   "source": [
    "ko_data.head()"
   ]
  },
  {
   "cell_type": "markdown",
   "id": "d5e79b56",
   "metadata": {},
   "source": [
    "### PepsiCo ($PEP)"
   ]
  },
  {
   "cell_type": "code",
   "execution_count": 32,
   "id": "5f10f40f",
   "metadata": {},
   "outputs": [
    {
     "data": {
      "text/html": [
       "<div><style>\n",
       ".dataframe > thead > tr,\n",
       ".dataframe > tbody > tr {\n",
       "  text-align: right;\n",
       "  white-space: pre-wrap;\n",
       "}\n",
       "</style>\n",
       "<small>shape: (9, 9)</small><table border=\"1\" class=\"dataframe\"><thead><tr><th>statistic</th><th>Date</th><th>Open</th><th>High</th><th>Low</th><th>Close</th><th>Volume</th><th>Dividends</th><th>Stock Splits</th></tr><tr><td>str</td><td>str</td><td>f64</td><td>f64</td><td>f64</td><td>f64</td><td>f64</td><td>f64</td><td>f64</td></tr></thead><tbody><tr><td>&quot;count&quot;</td><td>&quot;3773&quot;</td><td>3773.0</td><td>3773.0</td><td>3773.0</td><td>3773.0</td><td>3773.0</td><td>3773.0</td><td>3773.0</td></tr><tr><td>&quot;null_count&quot;</td><td>&quot;0&quot;</td><td>0.0</td><td>0.0</td><td>0.0</td><td>0.0</td><td>0.0</td><td>0.0</td><td>0.0</td></tr><tr><td>&quot;mean&quot;</td><td>null</td><td>93.969341</td><td>94.616491</td><td>93.291766</td><td>93.978312</td><td>5.2441e6</td><td>0.013296</td><td>0.0</td></tr><tr><td>&quot;std&quot;</td><td>null</td><td>42.155884</td><td>42.467232</td><td>41.783274</td><td>42.132156</td><td>2.4010e6</td><td>0.109972</td><td>0.0</td></tr><tr><td>&quot;min&quot;</td><td>&quot;2010-01-04 00:00:00-05:00&quot;</td><td>37.113316</td><td>37.344928</td><td>36.775302</td><td>36.906754</td><td>883300.0</td><td>0.0</td><td>0.0</td></tr><tr><td>&quot;25%&quot;</td><td>null</td><td>57.474385</td><td>57.774879</td><td>57.071079</td><td>57.464031</td><td>3.7608e6</td><td>0.0</td><td>0.0</td></tr><tr><td>&quot;50%&quot;</td><td>null</td><td>86.44788</td><td>86.934984</td><td>85.88974</td><td>86.456772</td><td>4.76e6</td><td>0.0</td><td>0.0</td></tr><tr><td>&quot;75%&quot;</td><td>null</td><td>125.346911</td><td>126.120993</td><td>124.533382</td><td>125.525894</td><td>5.9878e6</td><td>0.0</td><td>0.0</td></tr><tr><td>&quot;max&quot;</td><td>&quot;2024-12-30 00:00:00-05:00&quot;</td><td>180.996784</td><td>181.282222</td><td>179.505153</td><td>180.582458</td><td>2.75597e7</td><td>1.355</td><td>0.0</td></tr></tbody></table></div>"
      ],
      "text/plain": [
       "shape: (9, 9)\n",
       "┌───────────┬───────────┬───────────┬───────────┬───┬───────────┬───────────┬───────────┬──────────┐\n",
       "│ statistic ┆ Date      ┆ Open      ┆ High      ┆ … ┆ Close     ┆ Volume    ┆ Dividends ┆ Stock    │\n",
       "│ ---       ┆ ---       ┆ ---       ┆ ---       ┆   ┆ ---       ┆ ---       ┆ ---       ┆ Splits   │\n",
       "│ str       ┆ str       ┆ f64       ┆ f64       ┆   ┆ f64       ┆ f64       ┆ f64       ┆ ---      │\n",
       "│           ┆           ┆           ┆           ┆   ┆           ┆           ┆           ┆ f64      │\n",
       "╞═══════════╪═══════════╪═══════════╪═══════════╪═══╪═══════════╪═══════════╪═══════════╪══════════╡\n",
       "│ count     ┆ 3773      ┆ 3773.0    ┆ 3773.0    ┆ … ┆ 3773.0    ┆ 3773.0    ┆ 3773.0    ┆ 3773.0   │\n",
       "│ null_coun ┆ 0         ┆ 0.0       ┆ 0.0       ┆ … ┆ 0.0       ┆ 0.0       ┆ 0.0       ┆ 0.0      │\n",
       "│ t         ┆           ┆           ┆           ┆   ┆           ┆           ┆           ┆          │\n",
       "│ mean      ┆ null      ┆ 93.969341 ┆ 94.616491 ┆ … ┆ 93.978312 ┆ 5.2441e6  ┆ 0.013296  ┆ 0.0      │\n",
       "│ std       ┆ null      ┆ 42.155884 ┆ 42.467232 ┆ … ┆ 42.132156 ┆ 2.4010e6  ┆ 0.109972  ┆ 0.0      │\n",
       "│ min       ┆ 2010-01-0 ┆ 37.113316 ┆ 37.344928 ┆ … ┆ 36.906754 ┆ 883300.0  ┆ 0.0       ┆ 0.0      │\n",
       "│           ┆ 4 00:00:0 ┆           ┆           ┆   ┆           ┆           ┆           ┆          │\n",
       "│           ┆ 0-05:00   ┆           ┆           ┆   ┆           ┆           ┆           ┆          │\n",
       "│ 25%       ┆ null      ┆ 57.474385 ┆ 57.774879 ┆ … ┆ 57.464031 ┆ 3.7608e6  ┆ 0.0       ┆ 0.0      │\n",
       "│ 50%       ┆ null      ┆ 86.44788  ┆ 86.934984 ┆ … ┆ 86.456772 ┆ 4.76e6    ┆ 0.0       ┆ 0.0      │\n",
       "│ 75%       ┆ null      ┆ 125.34691 ┆ 126.12099 ┆ … ┆ 125.52589 ┆ 5.9878e6  ┆ 0.0       ┆ 0.0      │\n",
       "│           ┆           ┆ 1         ┆ 3         ┆   ┆ 4         ┆           ┆           ┆          │\n",
       "│ max       ┆ 2024-12-3 ┆ 180.99678 ┆ 181.28222 ┆ … ┆ 180.58245 ┆ 2.75597e7 ┆ 1.355     ┆ 0.0      │\n",
       "│           ┆ 0 00:00:0 ┆ 4         ┆ 2         ┆   ┆ 8         ┆           ┆           ┆          │\n",
       "│           ┆ 0-05:00   ┆           ┆           ┆   ┆           ┆           ┆           ┆          │\n",
       "└───────────┴───────────┴───────────┴───────────┴───┴───────────┴───────────┴───────────┴──────────┘"
      ]
     },
     "execution_count": 32,
     "metadata": {},
     "output_type": "execute_result"
    }
   ],
   "source": [
    "pep_data.describe()"
   ]
  },
  {
   "cell_type": "markdown",
   "id": "43f2608e",
   "metadata": {},
   "source": [
    "### Costco ($COST)"
   ]
  },
  {
   "cell_type": "code",
   "execution_count": 33,
   "id": "ed55b3cd",
   "metadata": {},
   "outputs": [
    {
     "data": {
      "text/html": [
       "<div><style>\n",
       ".dataframe > thead > tr,\n",
       ".dataframe > tbody > tr {\n",
       "  text-align: right;\n",
       "  white-space: pre-wrap;\n",
       "}\n",
       "</style>\n",
       "<small>shape: (9, 9)</small><table border=\"1\" class=\"dataframe\"><thead><tr><th>statistic</th><th>Date</th><th>Open</th><th>High</th><th>Low</th><th>Close</th><th>Volume</th><th>Dividends</th><th>Stock Splits</th></tr><tr><td>str</td><td>str</td><td>f64</td><td>f64</td><td>f64</td><td>f64</td><td>f64</td><td>f64</td><td>f64</td></tr></thead><tbody><tr><td>&quot;count&quot;</td><td>&quot;3773&quot;</td><td>3773.0</td><td>3773.0</td><td>3773.0</td><td>3773.0</td><td>3773.0</td><td>3773.0</td><td>3773.0</td></tr><tr><td>&quot;null_count&quot;</td><td>&quot;0&quot;</td><td>0.0</td><td>0.0</td><td>0.0</td><td>0.0</td><td>0.0</td><td>0.0</td><td>0.0</td></tr><tr><td>&quot;mean&quot;</td><td>null</td><td>247.197242</td><td>249.27975</td><td>245.106105</td><td>247.320245</td><td>2.3914e6</td><td>0.02044</td><td>0.0</td></tr><tr><td>&quot;std&quot;</td><td>null</td><td>216.153611</td><td>218.03324</td><td>214.167997</td><td>216.229205</td><td>1.3043e6</td><td>0.352758</td><td>0.0</td></tr><tr><td>&quot;min&quot;</td><td>&quot;2010-01-04 00:00:00-05:00&quot;</td><td>38.455259</td><td>38.86299</td><td>38.204901</td><td>38.347946</td><td>491000.0</td><td>0.0</td><td>0.0</td></tr><tr><td>&quot;25%&quot;</td><td>null</td><td>91.03559</td><td>91.616998</td><td>90.524865</td><td>91.075737</td><td>1.6167e6</td><td>0.0</td><td>0.0</td></tr><tr><td>&quot;50%&quot;</td><td>null</td><td>144.170424</td><td>145.548046</td><td>143.651506</td><td>144.957626</td><td>2.0606e6</td><td>0.0</td><td>0.0</td></tr><tr><td>&quot;75%&quot;</td><td>null</td><td>354.559691</td><td>356.436957</td><td>351.686524</td><td>354.013245</td><td>2.7284e6</td><td>0.0</td><td>0.0</td></tr><tr><td>&quot;max&quot;</td><td>&quot;2024-12-30 00:00:00-05:00&quot;</td><td>997.889962</td><td>1004.435155</td><td>989.830639</td><td>990.926453</td><td>2.4233e7</td><td>15.0</td><td>0.0</td></tr></tbody></table></div>"
      ],
      "text/plain": [
       "shape: (9, 9)\n",
       "┌────────────┬────────────┬────────────┬───────────┬───┬───────────┬──────────┬───────────┬────────┐\n",
       "│ statistic  ┆ Date       ┆ Open       ┆ High      ┆ … ┆ Close     ┆ Volume   ┆ Dividends ┆ Stock  │\n",
       "│ ---        ┆ ---        ┆ ---        ┆ ---       ┆   ┆ ---       ┆ ---      ┆ ---       ┆ Splits │\n",
       "│ str        ┆ str        ┆ f64        ┆ f64       ┆   ┆ f64       ┆ f64      ┆ f64       ┆ ---    │\n",
       "│            ┆            ┆            ┆           ┆   ┆           ┆          ┆           ┆ f64    │\n",
       "╞════════════╪════════════╪════════════╪═══════════╪═══╪═══════════╪══════════╪═══════════╪════════╡\n",
       "│ count      ┆ 3773       ┆ 3773.0     ┆ 3773.0    ┆ … ┆ 3773.0    ┆ 3773.0   ┆ 3773.0    ┆ 3773.0 │\n",
       "│ null_count ┆ 0          ┆ 0.0        ┆ 0.0       ┆ … ┆ 0.0       ┆ 0.0      ┆ 0.0       ┆ 0.0    │\n",
       "│ mean       ┆ null       ┆ 247.197242 ┆ 249.27975 ┆ … ┆ 247.32024 ┆ 2.3914e6 ┆ 0.02044   ┆ 0.0    │\n",
       "│            ┆            ┆            ┆           ┆   ┆ 5         ┆          ┆           ┆        │\n",
       "│ std        ┆ null       ┆ 216.153611 ┆ 218.03324 ┆ … ┆ 216.22920 ┆ 1.3043e6 ┆ 0.352758  ┆ 0.0    │\n",
       "│            ┆            ┆            ┆           ┆   ┆ 5         ┆          ┆           ┆        │\n",
       "│ min        ┆ 2010-01-04 ┆ 38.455259  ┆ 38.86299  ┆ … ┆ 38.347946 ┆ 491000.0 ┆ 0.0       ┆ 0.0    │\n",
       "│            ┆ 00:00:00-0 ┆            ┆           ┆   ┆           ┆          ┆           ┆        │\n",
       "│            ┆ 5:00       ┆            ┆           ┆   ┆           ┆          ┆           ┆        │\n",
       "│ 25%        ┆ null       ┆ 91.03559   ┆ 91.616998 ┆ … ┆ 91.075737 ┆ 1.6167e6 ┆ 0.0       ┆ 0.0    │\n",
       "│ 50%        ┆ null       ┆ 144.170424 ┆ 145.54804 ┆ … ┆ 144.95762 ┆ 2.0606e6 ┆ 0.0       ┆ 0.0    │\n",
       "│            ┆            ┆            ┆ 6         ┆   ┆ 6         ┆          ┆           ┆        │\n",
       "│ 75%        ┆ null       ┆ 354.559691 ┆ 356.43695 ┆ … ┆ 354.01324 ┆ 2.7284e6 ┆ 0.0       ┆ 0.0    │\n",
       "│            ┆            ┆            ┆ 7         ┆   ┆ 5         ┆          ┆           ┆        │\n",
       "│ max        ┆ 2024-12-30 ┆ 997.889962 ┆ 1004.4351 ┆ … ┆ 990.92645 ┆ 2.4233e7 ┆ 15.0      ┆ 0.0    │\n",
       "│            ┆ 00:00:00-0 ┆            ┆ 55        ┆   ┆ 3         ┆          ┆           ┆        │\n",
       "│            ┆ 5:00       ┆            ┆           ┆   ┆           ┆          ┆           ┆        │\n",
       "└────────────┴────────────┴────────────┴───────────┴───┴───────────┴──────────┴───────────┴────────┘"
      ]
     },
     "execution_count": 33,
     "metadata": {},
     "output_type": "execute_result"
    }
   ],
   "source": [
    "cost_data.describe()"
   ]
  },
  {
   "cell_type": "markdown",
   "id": "32da0d0f",
   "metadata": {},
   "source": [
    "### Walmart ($WMT)"
   ]
  },
  {
   "cell_type": "code",
   "execution_count": 34,
   "id": "0806b080",
   "metadata": {},
   "outputs": [
    {
     "data": {
      "text/html": [
       "<div><style>\n",
       ".dataframe > thead > tr,\n",
       ".dataframe > tbody > tr {\n",
       "  text-align: right;\n",
       "  white-space: pre-wrap;\n",
       "}\n",
       "</style>\n",
       "<small>shape: (9, 9)</small><table border=\"1\" class=\"dataframe\"><thead><tr><th>statistic</th><th>Date</th><th>Open</th><th>High</th><th>Low</th><th>Close</th><th>Volume</th><th>Dividends</th><th>Stock Splits</th></tr><tr><td>str</td><td>str</td><td>f64</td><td>f64</td><td>f64</td><td>f64</td><td>f64</td><td>f64</td><td>f64</td></tr></thead><tbody><tr><td>&quot;count&quot;</td><td>&quot;3773&quot;</td><td>3773.0</td><td>3773.0</td><td>3773.0</td><td>3773.0</td><td>3773.0</td><td>3773.0</td><td>3773.0</td></tr><tr><td>&quot;null_count&quot;</td><td>&quot;0&quot;</td><td>0.0</td><td>0.0</td><td>0.0</td><td>0.0</td><td>0.0</td><td>0.0</td><td>0.0</td></tr><tr><td>&quot;mean&quot;</td><td>null</td><td>30.276485</td><td>30.510099</td><td>30.057381</td><td>30.287885</td><td>2.5686e7</td><td>0.002619</td><td>0.000795</td></tr><tr><td>&quot;std&quot;</td><td>null</td><td>16.028062</td><td>16.152691</td><td>15.898288</td><td>16.032867</td><td>1.4549e7</td><td>0.02088</td><td>0.04884</td></tr><tr><td>&quot;min&quot;</td><td>&quot;2010-01-04 00:00:00-05:00&quot;</td><td>11.65102</td><td>11.726111</td><td>11.571086</td><td>11.626796</td><td>6.2847e6</td><td>0.0</td><td>0.0</td></tr><tr><td>&quot;25%&quot;</td><td>null</td><td>19.043536</td><td>19.17178</td><td>18.918589</td><td>19.030716</td><td>1.69953e7</td><td>0.0</td><td>0.0</td></tr><tr><td>&quot;50%&quot;</td><td>null</td><td>23.212726</td><td>23.354764</td><td>23.089677</td><td>23.237837</td><td>2.17224e7</td><td>0.0</td><td>0.0</td></tr><tr><td>&quot;75%&quot;</td><td>null</td><td>43.003178</td><td>43.436576</td><td>42.657617</td><td>43.016922</td><td>2.99988e7</td><td>0.0</td><td>0.0</td></tr><tr><td>&quot;max&quot;</td><td>&quot;2024-12-30 00:00:00-05:00&quot;</td><td>94.756085</td><td>95.251255</td><td>94.409464</td><td>94.775887</td><td>2.426943e8</td><td>0.208</td><td>3.0</td></tr></tbody></table></div>"
      ],
      "text/plain": [
       "shape: (9, 9)\n",
       "┌───────────┬───────────┬───────────┬───────────┬───┬───────────┬───────────┬───────────┬──────────┐\n",
       "│ statistic ┆ Date      ┆ Open      ┆ High      ┆ … ┆ Close     ┆ Volume    ┆ Dividends ┆ Stock    │\n",
       "│ ---       ┆ ---       ┆ ---       ┆ ---       ┆   ┆ ---       ┆ ---       ┆ ---       ┆ Splits   │\n",
       "│ str       ┆ str       ┆ f64       ┆ f64       ┆   ┆ f64       ┆ f64       ┆ f64       ┆ ---      │\n",
       "│           ┆           ┆           ┆           ┆   ┆           ┆           ┆           ┆ f64      │\n",
       "╞═══════════╪═══════════╪═══════════╪═══════════╪═══╪═══════════╪═══════════╪═══════════╪══════════╡\n",
       "│ count     ┆ 3773      ┆ 3773.0    ┆ 3773.0    ┆ … ┆ 3773.0    ┆ 3773.0    ┆ 3773.0    ┆ 3773.0   │\n",
       "│ null_coun ┆ 0         ┆ 0.0       ┆ 0.0       ┆ … ┆ 0.0       ┆ 0.0       ┆ 0.0       ┆ 0.0      │\n",
       "│ t         ┆           ┆           ┆           ┆   ┆           ┆           ┆           ┆          │\n",
       "│ mean      ┆ null      ┆ 30.276485 ┆ 30.510099 ┆ … ┆ 30.287885 ┆ 2.5686e7  ┆ 0.002619  ┆ 0.000795 │\n",
       "│ std       ┆ null      ┆ 16.028062 ┆ 16.152691 ┆ … ┆ 16.032867 ┆ 1.4549e7  ┆ 0.02088   ┆ 0.04884  │\n",
       "│ min       ┆ 2010-01-0 ┆ 11.65102  ┆ 11.726111 ┆ … ┆ 11.626796 ┆ 6.2847e6  ┆ 0.0       ┆ 0.0      │\n",
       "│           ┆ 4 00:00:0 ┆           ┆           ┆   ┆           ┆           ┆           ┆          │\n",
       "│           ┆ 0-05:00   ┆           ┆           ┆   ┆           ┆           ┆           ┆          │\n",
       "│ 25%       ┆ null      ┆ 19.043536 ┆ 19.17178  ┆ … ┆ 19.030716 ┆ 1.69953e7 ┆ 0.0       ┆ 0.0      │\n",
       "│ 50%       ┆ null      ┆ 23.212726 ┆ 23.354764 ┆ … ┆ 23.237837 ┆ 2.17224e7 ┆ 0.0       ┆ 0.0      │\n",
       "│ 75%       ┆ null      ┆ 43.003178 ┆ 43.436576 ┆ … ┆ 43.016922 ┆ 2.99988e7 ┆ 0.0       ┆ 0.0      │\n",
       "│ max       ┆ 2024-12-3 ┆ 94.756085 ┆ 95.251255 ┆ … ┆ 94.775887 ┆ 2.426943e ┆ 0.208     ┆ 3.0      │\n",
       "│           ┆ 0 00:00:0 ┆           ┆           ┆   ┆           ┆ 8         ┆           ┆          │\n",
       "│           ┆ 0-05:00   ┆           ┆           ┆   ┆           ┆           ┆           ┆          │\n",
       "└───────────┴───────────┴───────────┴───────────┴───┴───────────┴───────────┴───────────┴──────────┘"
      ]
     },
     "execution_count": 34,
     "metadata": {},
     "output_type": "execute_result"
    }
   ],
   "source": [
    "wmt_data.describe()"
   ]
  },
  {
   "cell_type": "markdown",
   "id": "2a5c9ad5",
   "metadata": {},
   "source": [
    "### FRED"
   ]
  },
  {
   "cell_type": "code",
   "execution_count": 47,
   "id": "199012ae",
   "metadata": {},
   "outputs": [
    {
     "data": {
      "text/plain": [
       "dict_keys(['GDP', 'CPI', 'UNRATE', 'FEDFUNDS', 'VIX', 'T10Y3M'])"
      ]
     },
     "execution_count": 47,
     "metadata": {},
     "output_type": "execute_result"
    }
   ],
   "source": [
    "fred_dfs.keys()"
   ]
  },
  {
   "cell_type": "code",
   "execution_count": 48,
   "id": "ea9ef584",
   "metadata": {},
   "outputs": [
    {
     "data": {
      "text/html": [
       "<div><style>\n",
       ".dataframe > thead > tr,\n",
       ".dataframe > tbody > tr {\n",
       "  text-align: right;\n",
       "  white-space: pre-wrap;\n",
       "}\n",
       "</style>\n",
       "<small>shape: (5, 2)</small><table border=\"1\" class=\"dataframe\"><thead><tr><th>DATE</th><th>GDP</th></tr><tr><td>datetime[μs]</td><td>f64</td></tr></thead><tbody><tr><td>1947-04-01 00:00:00</td><td>-1.0</td></tr><tr><td>1947-07-01 00:00:00</td><td>-0.8</td></tr><tr><td>1947-10-01 00:00:00</td><td>6.4</td></tr><tr><td>1948-01-01 00:00:00</td><td>6.2</td></tr><tr><td>1948-04-01 00:00:00</td><td>6.8</td></tr></tbody></table></div>"
      ],
      "text/plain": [
       "shape: (5, 2)\n",
       "┌─────────────────────┬──────┐\n",
       "│ DATE                ┆ GDP  │\n",
       "│ ---                 ┆ ---  │\n",
       "│ datetime[μs]        ┆ f64  │\n",
       "╞═════════════════════╪══════╡\n",
       "│ 1947-04-01 00:00:00 ┆ -1.0 │\n",
       "│ 1947-07-01 00:00:00 ┆ -0.8 │\n",
       "│ 1947-10-01 00:00:00 ┆ 6.4  │\n",
       "│ 1948-01-01 00:00:00 ┆ 6.2  │\n",
       "│ 1948-04-01 00:00:00 ┆ 6.8  │\n",
       "└─────────────────────┴──────┘"
      ]
     },
     "execution_count": 48,
     "metadata": {},
     "output_type": "execute_result"
    }
   ],
   "source": [
    "fred_dfs['GDP'].head()"
   ]
  },
  {
   "cell_type": "code",
   "execution_count": 49,
   "id": "a94682e2",
   "metadata": {},
   "outputs": [
    {
     "data": {
      "text/html": [
       "<div><style>\n",
       ".dataframe > thead > tr,\n",
       ".dataframe > tbody > tr {\n",
       "  text-align: right;\n",
       "  white-space: pre-wrap;\n",
       "}\n",
       "</style>\n",
       "<small>shape: (5, 2)</small><table border=\"1\" class=\"dataframe\"><thead><tr><th>DATE</th><th>CPI</th></tr><tr><td>datetime[μs]</td><td>f64</td></tr></thead><tbody><tr><td>1947-01-01 00:00:00</td><td>21.48</td></tr><tr><td>1947-02-01 00:00:00</td><td>21.62</td></tr><tr><td>1947-03-01 00:00:00</td><td>22.0</td></tr><tr><td>1947-04-01 00:00:00</td><td>22.0</td></tr><tr><td>1947-05-01 00:00:00</td><td>21.95</td></tr></tbody></table></div>"
      ],
      "text/plain": [
       "shape: (5, 2)\n",
       "┌─────────────────────┬───────┐\n",
       "│ DATE                ┆ CPI   │\n",
       "│ ---                 ┆ ---   │\n",
       "│ datetime[μs]        ┆ f64   │\n",
       "╞═════════════════════╪═══════╡\n",
       "│ 1947-01-01 00:00:00 ┆ 21.48 │\n",
       "│ 1947-02-01 00:00:00 ┆ 21.62 │\n",
       "│ 1947-03-01 00:00:00 ┆ 22.0  │\n",
       "│ 1947-04-01 00:00:00 ┆ 22.0  │\n",
       "│ 1947-05-01 00:00:00 ┆ 21.95 │\n",
       "└─────────────────────┴───────┘"
      ]
     },
     "execution_count": 49,
     "metadata": {},
     "output_type": "execute_result"
    }
   ],
   "source": [
    "fred_dfs['CPI'].head()"
   ]
  },
  {
   "cell_type": "code",
   "execution_count": 50,
   "id": "bc7f407d",
   "metadata": {},
   "outputs": [
    {
     "data": {
      "text/html": [
       "<div><style>\n",
       ".dataframe > thead > tr,\n",
       ".dataframe > tbody > tr {\n",
       "  text-align: right;\n",
       "  white-space: pre-wrap;\n",
       "}\n",
       "</style>\n",
       "<small>shape: (5, 2)</small><table border=\"1\" class=\"dataframe\"><thead><tr><th>DATE</th><th>UNRATE</th></tr><tr><td>datetime[μs]</td><td>f64</td></tr></thead><tbody><tr><td>1948-01-01 00:00:00</td><td>3.4</td></tr><tr><td>1948-02-01 00:00:00</td><td>3.8</td></tr><tr><td>1948-03-01 00:00:00</td><td>4.0</td></tr><tr><td>1948-04-01 00:00:00</td><td>3.9</td></tr><tr><td>1948-05-01 00:00:00</td><td>3.5</td></tr></tbody></table></div>"
      ],
      "text/plain": [
       "shape: (5, 2)\n",
       "┌─────────────────────┬────────┐\n",
       "│ DATE                ┆ UNRATE │\n",
       "│ ---                 ┆ ---    │\n",
       "│ datetime[μs]        ┆ f64    │\n",
       "╞═════════════════════╪════════╡\n",
       "│ 1948-01-01 00:00:00 ┆ 3.4    │\n",
       "│ 1948-02-01 00:00:00 ┆ 3.8    │\n",
       "│ 1948-03-01 00:00:00 ┆ 4.0    │\n",
       "│ 1948-04-01 00:00:00 ┆ 3.9    │\n",
       "│ 1948-05-01 00:00:00 ┆ 3.5    │\n",
       "└─────────────────────┴────────┘"
      ]
     },
     "execution_count": 50,
     "metadata": {},
     "output_type": "execute_result"
    }
   ],
   "source": [
    "fred_dfs['UNRATE'].head()"
   ]
  },
  {
   "cell_type": "code",
   "execution_count": 51,
   "id": "b287b089",
   "metadata": {},
   "outputs": [
    {
     "data": {
      "text/html": [
       "<div><style>\n",
       ".dataframe > thead > tr,\n",
       ".dataframe > tbody > tr {\n",
       "  text-align: right;\n",
       "  white-space: pre-wrap;\n",
       "}\n",
       "</style>\n",
       "<small>shape: (5, 2)</small><table border=\"1\" class=\"dataframe\"><thead><tr><th>DATE</th><th>FEDFUNDS</th></tr><tr><td>datetime[μs]</td><td>f64</td></tr></thead><tbody><tr><td>1954-07-01 00:00:00</td><td>0.8</td></tr><tr><td>1954-08-01 00:00:00</td><td>1.22</td></tr><tr><td>1954-09-01 00:00:00</td><td>1.07</td></tr><tr><td>1954-10-01 00:00:00</td><td>0.85</td></tr><tr><td>1954-11-01 00:00:00</td><td>0.83</td></tr></tbody></table></div>"
      ],
      "text/plain": [
       "shape: (5, 2)\n",
       "┌─────────────────────┬──────────┐\n",
       "│ DATE                ┆ FEDFUNDS │\n",
       "│ ---                 ┆ ---      │\n",
       "│ datetime[μs]        ┆ f64      │\n",
       "╞═════════════════════╪══════════╡\n",
       "│ 1954-07-01 00:00:00 ┆ 0.8      │\n",
       "│ 1954-08-01 00:00:00 ┆ 1.22     │\n",
       "│ 1954-09-01 00:00:00 ┆ 1.07     │\n",
       "│ 1954-10-01 00:00:00 ┆ 0.85     │\n",
       "│ 1954-11-01 00:00:00 ┆ 0.83     │\n",
       "└─────────────────────┴──────────┘"
      ]
     },
     "execution_count": 51,
     "metadata": {},
     "output_type": "execute_result"
    }
   ],
   "source": [
    "fred_dfs['FEDFUNDS'].head()"
   ]
  },
  {
   "cell_type": "code",
   "execution_count": 52,
   "id": "5f61af31",
   "metadata": {},
   "outputs": [
    {
     "data": {
      "text/html": [
       "<div><style>\n",
       ".dataframe > thead > tr,\n",
       ".dataframe > tbody > tr {\n",
       "  text-align: right;\n",
       "  white-space: pre-wrap;\n",
       "}\n",
       "</style>\n",
       "<small>shape: (5, 2)</small><table border=\"1\" class=\"dataframe\"><thead><tr><th>DATE</th><th>VIX</th></tr><tr><td>datetime[μs]</td><td>f64</td></tr></thead><tbody><tr><td>1990-01-02 00:00:00</td><td>17.24</td></tr><tr><td>1990-01-03 00:00:00</td><td>18.19</td></tr><tr><td>1990-01-04 00:00:00</td><td>19.22</td></tr><tr><td>1990-01-05 00:00:00</td><td>20.11</td></tr><tr><td>1990-01-08 00:00:00</td><td>20.26</td></tr></tbody></table></div>"
      ],
      "text/plain": [
       "shape: (5, 2)\n",
       "┌─────────────────────┬───────┐\n",
       "│ DATE                ┆ VIX   │\n",
       "│ ---                 ┆ ---   │\n",
       "│ datetime[μs]        ┆ f64   │\n",
       "╞═════════════════════╪═══════╡\n",
       "│ 1990-01-02 00:00:00 ┆ 17.24 │\n",
       "│ 1990-01-03 00:00:00 ┆ 18.19 │\n",
       "│ 1990-01-04 00:00:00 ┆ 19.22 │\n",
       "│ 1990-01-05 00:00:00 ┆ 20.11 │\n",
       "│ 1990-01-08 00:00:00 ┆ 20.26 │\n",
       "└─────────────────────┴───────┘"
      ]
     },
     "execution_count": 52,
     "metadata": {},
     "output_type": "execute_result"
    }
   ],
   "source": [
    "fred_dfs['VIX'].head()"
   ]
  },
  {
   "cell_type": "code",
   "execution_count": 53,
   "id": "78f34f55",
   "metadata": {},
   "outputs": [
    {
     "data": {
      "text/html": [
       "<div><style>\n",
       ".dataframe > thead > tr,\n",
       ".dataframe > tbody > tr {\n",
       "  text-align: right;\n",
       "  white-space: pre-wrap;\n",
       "}\n",
       "</style>\n",
       "<small>shape: (5, 2)</small><table border=\"1\" class=\"dataframe\"><thead><tr><th>DATE</th><th>T10Y3M</th></tr><tr><td>datetime[μs]</td><td>f64</td></tr></thead><tbody><tr><td>1982-01-04 00:00:00</td><td>2.32</td></tr><tr><td>1982-01-05 00:00:00</td><td>2.24</td></tr><tr><td>1982-01-06 00:00:00</td><td>2.43</td></tr><tr><td>1982-01-07 00:00:00</td><td>2.46</td></tr><tr><td>1982-01-08 00:00:00</td><td>2.5</td></tr></tbody></table></div>"
      ],
      "text/plain": [
       "shape: (5, 2)\n",
       "┌─────────────────────┬────────┐\n",
       "│ DATE                ┆ T10Y3M │\n",
       "│ ---                 ┆ ---    │\n",
       "│ datetime[μs]        ┆ f64    │\n",
       "╞═════════════════════╪════════╡\n",
       "│ 1982-01-04 00:00:00 ┆ 2.32   │\n",
       "│ 1982-01-05 00:00:00 ┆ 2.24   │\n",
       "│ 1982-01-06 00:00:00 ┆ 2.43   │\n",
       "│ 1982-01-07 00:00:00 ┆ 2.46   │\n",
       "│ 1982-01-08 00:00:00 ┆ 2.5    │\n",
       "└─────────────────────┴────────┘"
      ]
     },
     "execution_count": 53,
     "metadata": {},
     "output_type": "execute_result"
    }
   ],
   "source": [
    "fred_dfs['T10Y3M'].head()"
   ]
  }
 ],
 "metadata": {
  "kernelspec": {
   "display_name": ".venv",
   "language": "python",
   "name": "python3"
  },
  "language_info": {
   "codemirror_mode": {
    "name": "ipython",
    "version": 3
   },
   "file_extension": ".py",
   "mimetype": "text/x-python",
   "name": "python",
   "nbconvert_exporter": "python",
   "pygments_lexer": "ipython3",
   "version": "3.12.10"
  }
 },
 "nbformat": 4,
 "nbformat_minor": 5
}
